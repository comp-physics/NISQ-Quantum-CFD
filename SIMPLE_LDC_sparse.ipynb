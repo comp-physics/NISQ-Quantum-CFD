{
 "cells": [
  {
   "cell_type": "code",
   "execution_count": 1,
   "metadata": {
    "id": "dhJ2tvjirWmy"
   },
   "outputs": [],
   "source": [
    "import numpy as np\n",
    "import matplotlib.pyplot as plt\n",
    "from utils_sparse import u_momentum, v_momentum, get_rhs, get_coeff_mat_modified, pres_correct, update_velocity, check_divergence_free\n",
    "import scipy.sparse as sparse\n",
    "from scipy.sparse import lil_matrix as zeros\n",
    "import time\n",
    "import sys\n",
    "import dill as pickle\n",
    "# These are the usual ipython objects, including this one you are creating\n",
    "ipython_vars = [\"In\", \"Out\", \"exit\", \"quit\", \"get_ipython\", \"ipython_vars\"]"
   ]
  },
  {
   "cell_type": "code",
   "execution_count": 2,
   "metadata": {
    "id": "QZt5MOR0rWpv"
   },
   "outputs": [
    {
     "name": "stderr",
     "output_type": "stream",
     "text": [
      "/home/bgard3/anaconda3/envs/CFD/lib/python3.8/site-packages/scipy/sparse/_index.py:103: SparseEfficiencyWarning: Changing the sparsity structure of a csr_matrix is expensive. lil_matrix is more efficient.\n",
      "  self._set_intXint(row, col, x.flat[0])\n"
     ]
    },
    {
     "name": "stdout",
     "output_type": "stream",
     "text": [
      "Final Iteration = 124; Final Res = 9.764946173082371e-06\n",
      "Final Iteration = 172; Final Res = 9.85310095704935e-06\n",
      "Final Iteration = 164; Final Res = 9.896423402849797e-06\n",
      "Final Iteration = 561; Final Res = 9.979850154551162e-06\n",
      "Final Iteration = 1001; Final Res = 5.780008458650121e-05\n",
      "Final Iteration = 1001; Final Res = 0.00017968565718134988\n"
     ]
    }
   ],
   "source": [
    "store_sparse = {}\n",
    "for grid_size in range(2,8):\n",
    "    beg = time.time()\n",
    "    # Variable declaration\n",
    "    imax = 2**grid_size                     # grid size in x-direction\n",
    "    jmax = imax                       # grid size in y-direction\n",
    "    max_iteration = 1000\n",
    "    maxRes = 1000\n",
    "    # iteration = 10\n",
    "    mu = 0.01                        # viscosity\n",
    "    rho = 1                          # density\n",
    "    velocity = 1                     # velocity = lid velocity\n",
    "    dx = 1 / (imax - 1)              # dx, dy cell sizes along x and y directions\n",
    "    dy = 1 / (jmax - 1)\n",
    "    x = np.arange(dx / 2, 1 + dx/2 - dx / 2, dx)\n",
    "    y = np.arange(0, 1+dy/2, dy)\n",
    "    alphaP = 0.1                     # pressure under-relaxation\n",
    "    alphaU = 0.7                     # velocity under-relaxation\n",
    "    tol = 1e-5\n",
    "    p = zeros((imax, jmax))             # p = Pressure\n",
    "    p_star = zeros((imax, jmax))\n",
    "    p_prime = zeros((imax, jmax))       # pressure correction\n",
    "    rhsp = zeros((imax, jmax))          # Right hand side vector of pressure correction equation\n",
    "    divergence = zeros((imax, jmax))\n",
    "    \n",
    "    # Vertical velocity\n",
    "    v_star = zeros((imax, jmax + 1))\n",
    "    vold = zeros((imax, jmax + 1))\n",
    "    vRes = zeros((imax, jmax + 1))\n",
    "    v = zeros((imax, jmax + 1))\n",
    "    d_v = zeros((imax, jmax + 1))       # velocity correction coefficient\n",
    "    \n",
    "    # Horizontal Velocity\n",
    "    u_star = zeros((imax + 1, jmax))\n",
    "    uold = zeros((imax + 1, jmax))\n",
    "    uRes = zeros((imax + 1, jmax))\n",
    "    u = zeros((imax + 1, jmax))\n",
    "    d_u = zeros((imax + 1, jmax))       # velocity correction coefficient\n",
    "    # Boundary condition\n",
    "    # Lid velocity (Top wall is moving with 1m/s)\n",
    "    u_star[:, jmax-1] = velocity\n",
    "    u[:, jmax-1] = velocity\n",
    "    iteration = 1\n",
    "    # max_iteration = 1\n",
    "    while iteration <= max_iteration and maxRes > tol:\n",
    "        iteration += 1\n",
    "        u_star, d_u = u_momentum(imax, jmax, dx, dy, rho, mu, u, v, p_star, velocity, alphaU)\n",
    "        v_star, d_v = v_momentum(imax, jmax, dx, dy, rho, mu, u, v, p_star, alphaU)\n",
    "    \n",
    "        uold = u.copy()\n",
    "        vold = v.copy()\n",
    "    \n",
    "        rhsp = get_rhs(imax, jmax, dx, dy, rho, u_star, v_star)\n",
    "        Ap = get_coeff_mat_modified(imax, jmax, dx, dy, rho, d_u, d_v)\n",
    "        p, p_prime = pres_correct(imax, jmax, rhsp, Ap, p_star, alphaP)\n",
    "        u, v = update_velocity(imax, jmax, u_star, v_star, p_prime, d_u, d_v, velocity)\n",
    "        divergence = check_divergence_free(imax, jmax, dx, dy, u, v)\n",
    "    \n",
    "        p_star = p.copy()\n",
    "    \n",
    "        vRes = np.abs(v - vold)\n",
    "        uRes = np.abs(u - uold)\n",
    "        maxRes_u = np.max(uRes)\n",
    "        maxRes_v = np.max(vRes)\n",
    "        maxRes = max(maxRes_u, maxRes_v)\n",
    "    \n",
    "        if maxRes > 2:\n",
    "            print(\"not going to converge!\")\n",
    "            break\n",
    "    duration = time.time() - beg\n",
    "    print(f\"Final Iteration = {iteration}; Final Res = {maxRes}\")\n",
    "    #cond = sparse.linalg.cond(Ap)\n",
    "    #stability = sparse.linalg.norm(np.linalg.solve(Ap.todense(), rhsp)-sparse.linalg.spsolve(Ap, rhsp))\n",
    "    # Get a sorted list of the objects and their sizes\n",
    "    mem = {\n",
    "        key: value\n",
    "        for key, value in sorted(\n",
    "            [\n",
    "                (x, sys.getsizeof(globals().get(x)))\n",
    "                for x in dir()\n",
    "                if not x.startswith(\"_\") and x not in sys.modules and x not in ipython_vars\n",
    "            ],\n",
    "            key=lambda x: x[1],\n",
    "            reverse=True,\n",
    "        )\n",
    "    }\n",
    "    mem_usage = sum(mem.values()) / 1e6\n",
    "    store_sparse.update({imax:{'runtime':duration,'mem':mem_usage}})"
   ]
  },
  {
   "cell_type": "code",
   "execution_count": 4,
   "metadata": {},
   "outputs": [
    {
     "data": {
      "text/plain": [
       "{4: {'runtime': 1.9328515529632568, 'mem': 0.003964},\n",
       " 8: {'runtime': 10.142037868499756, 'mem': 0.006492},\n",
       " 16: {'runtime': 40.97033643722534, 'mem': 0.00662},\n",
       " 32: {'runtime': 600.9010853767395, 'mem': 0.006876},\n",
       " 64: {'runtime': 5559.375804901123, 'mem': 0.007388},\n",
       " 128: {'runtime': 40044.52940130234, 'mem': 0.008412}}"
      ]
     },
     "execution_count": 4,
     "metadata": {},
     "output_type": "execute_result"
    }
   ],
   "source": [
    "store_sparse"
   ]
  },
  {
   "cell_type": "code",
   "execution_count": 3,
   "metadata": {},
   "outputs": [],
   "source": [
    "pickle.dump(store_sparse,open('Resource_Usage_UpTo_7_sparse.p','wb'))"
   ]
  },
  {
   "cell_type": "code",
   "execution_count": 6,
   "metadata": {},
   "outputs": [],
   "source": [
    "dense = pickle.load(open('Resource_Usage_UpTo_7.p','rb'))"
   ]
  },
  {
   "cell_type": "code",
   "execution_count": 25,
   "metadata": {},
   "outputs": [
    {
     "data": {
      "text/plain": [
       "Text(0, 0.5, 'Resources Used')"
      ]
     },
     "execution_count": 25,
     "metadata": {},
     "output_type": "execute_result"
    },
    {
     "data": {
      "image/png": "[encoded data removed]",
      "text/plain": [
       "<Figure size 640x480 with 1 Axes>"
      ]
     },
     "metadata": {},
     "output_type": "display_data"
    }
   ],
   "source": [
    "plt.loglog([(i)**2 for i in store_results.keys()],[list(store_results.values())[i]['runtime'] for i in range(len(store_results))],label='Runtime (s)')\n",
    "plt.loglog([(i)**2 for i in store_results.keys()],[list(store_results.values())[i]['mem'] for i in range(len(store_results))],label='Memory (MB)')\n",
    "plt.legend()\n",
    "plt.xlabel(\"Grid Size\")\n",
    "plt.ylabel('Resources Used')"
   ]
  }
 ],
 "metadata": {
  "colab": {
   "provenance": []
  },
  "kernelspec": {
   "display_name": "Python 3 (ipykernel)",
   "language": "python",
   "name": "python3"
  },
  "language_info": {
   "codemirror_mode": {
    "name": "ipython",
    "version": 3
   },
   "file_extension": ".py",
   "mimetype": "text/x-python",
   "name": "python",
   "nbconvert_exporter": "python",
   "pygments_lexer": "ipython3",
   "version": "3.8.17"
  },
  "toc": {
   "base_numbering": 1,
   "nav_menu": {},
   "number_sections": true,
   "sideBar": true,
   "skip_h1_title": false,
   "title_cell": "Table of Contents",
   "title_sidebar": "Contents",
   "toc_cell": false,
   "toc_position": {},
   "toc_section_display": true,
   "toc_window_display": false
  },
  "varInspector": {
   "cols": {
    "lenName": 16,
    "lenType": 16,
    "lenVar": 40
   },
   "kernels_config": {
    "python": {
     "delete_cmd_postfix": "",
     "delete_cmd_prefix": "del ",
     "library": "var_list.py",
     "varRefreshCmd": "print(var_dic_list())"
    },
    "r": {
     "delete_cmd_postfix": ") ",
     "delete_cmd_prefix": "rm(",
     "library": "var_list.r",
     "varRefreshCmd": "cat(var_dic_list()) "
    }
   },
   "types_to_exclude": [
    "module",
    "function",
    "builtin_function_or_method",
    "instance",
    "_Feature"
   ],
   "window_display": false
  }
 },
 "nbformat": 4,
 "nbformat_minor": 4
}
