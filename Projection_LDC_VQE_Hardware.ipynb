{
 "cells": [
  {
   "cell_type": "markdown",
   "id": "14f9ed34",
   "metadata": {},
   "source": [
    "# Lid-driven Cavity Flow using the Projection Method\n",
    "\n",
    "## Introduction \n",
    "\n",
    "Consider the 2D incompressible Navier-Stokes equations (also known as momentum equations)\n",
    "\n",
    "\\begin{align}\n",
    "& \\frac{\\partial u}{\\partial t}+u \\cdot \\frac{\\partial u}{\\partial x}+v \\cdot \\frac{\\partial u}{\\partial y}=-\\frac{1}{\\rho} \\frac{\\partial p}{\\partial x}+\\nu \\frac{\\partial^2 u}{\\partial x^2}+\\nu \\frac{\\partial^2 u}{\\partial y^2}, \\\\\n",
    "& \\frac{\\partial v}{\\partial t}+u \\cdot \\frac{\\partial v}{\\partial x}+v \\cdot \\frac{\\partial v}{\\partial y}=-\\frac{1}{\\rho} \\frac{\\partial p}{\\partial y}+\\nu \\frac{\\partial^2 v}{\\partial x^2}+\\nu \\frac{\\partial^2 v}{\\partial y^2},\n",
    "\\end{align}\n",
    "\n",
    "and the continuity equation\n",
    "\n",
    "\\begin{equation}\n",
    "\\frac{\\partial u}{\\partial x}+\\frac{\\partial v}{\\partial y}=0,\n",
    "\\end{equation}\n",
    "\n",
    "where $\\mathbf{u} = (u,v)$ are flow velocities  in $x,y$ direction, $\\rho$ is the density (constant for incompressible flow), $\\nu$ is the kinematic viscosity, and $p$ stands for pressure.\n",
    "One can write them into a more compact form (dimension free) as \n",
    "\n",
    "\\begin{align}\n",
    "\\frac{\\partial \\mathbf{u}}{\\partial t}+(\\mathbf{u} \\cdot \\nabla) \\mathbf{u}&= -\\frac{1}{\\rho} \\nabla p+\\nu \\nabla^2 \\mathbf{u}, \\\\\n",
    "\\nabla \\cdot \\mathbf{u} & =0.\n",
    "\\end{align}\n",
    "\n",
    "---\n",
    "\n",
    "### Staggered Grid\n",
    "\n",
    "To deal with the checkerboard pressure problem, we assign different mesh systems to each primitive  variables $u,v,p$ as following.\n",
    "\n",
    "\n",
    "<p align=\"center\">\n",
    "  <a href=\"https://www.cfd-online.com/Wiki/Staggered_grid\">\n",
    "    <img width=50% src=\"./Gallery/staggered_grid.png\">\n",
    "  </a>\n",
    "</p>\n",
    "\n",
    "The pressure is stored at the cell center and the velocities are stored at the cell faces.\n",
    "\n",
    "---\n",
    "\n",
    "### Chorin's Projection Method\n",
    "\n",
    "The algorithm adopts an operator splitting approach in which one considers the viscous forces (in the first half step) and the pressure forces (in the second half step) separately. A distinguishing feature of Chorin's projection method is that the velocity field is forced to satisfy a discrete continuity constraint at the end of each time step.\n",
    "\n",
    "We first discretize the time domain using an explicit Euler scheme\n",
    "\n",
    "\\begin{equation}\n",
    "\\frac{\\mathbf{u}^{n+1}-\\mathbf{u}^n}{\\Delta t}=-\\frac{1}{\\rho} \\nabla p^{n+1}-\\left(\\mathbf{u}^n \\cdot \\nabla\\right) +\\nu \\nabla^2 \\mathbf{u}^n,\n",
    "\\end{equation}\n",
    "\n",
    "where the time-step $\\Delta t$ should be chosen so that $u \\Delta t / \\Delta x<1$ to satisfy the Courant-Friedrichs-Lewy (CFL) condition.\n",
    "\n",
    "**Step I: Predictor step** \\\n",
    "Computes an intermediate velocity ${\\mathbf  {u}}^{*}$, explicitly using the momentum equation by ignoring the pressure gradient term $\\nabla p^{n+1} = 0$:\n",
    "\n",
    "\\begin{align}\n",
    "\\frac{\\mathbf{u}^*-\\mathbf{u}^n}{\\Delta t} = -\\left(\\mathbf{u}^n \\cdot \\nabla\\right) \\mathbf{u}^n+\\nu \\nabla^2 \\mathbf{u}^n, \n",
    "\\end{align}\n",
    "\n",
    "where $\\mathbf{u}^n$ is the velocity at $n^{\\text {th }}$ time step. \n",
    "\n",
    "**Step II: Projection step** \\\n",
    "We correct the intermediate velocity to obtain the final solution of the time step $\\mathbf{u}^{n+1}$ \n",
    "\n",
    "\\begin{equation}\n",
    "\\frac{\\mathbf{u}^{n+1}-\\mathbf{u}^*}{\\Delta t}=-\\frac{1}{\\rho} \\nabla p^{n+1}.\n",
    "\\end{equation}\n",
    "\n",
    "**Step III: Pressure Poisson equation** \\\n",
    "Considering the divergence (continuity) condition at the next time step $t=n+1$, we have\n",
    "\n",
    "\\begin{align}\n",
    "\\nabla \\cdot \\mathbf{u}^{n+1} = 0\n",
    "\\quad \\Rightarrow \\quad\n",
    "\\nabla \\cdot \\bigg(\\mathbf{u}^*-\\frac{\\Delta t}{\\rho} \\nabla p^{n+1} \\bigg) = 0.\n",
    "\\end{align}\n",
    "\n",
    "Reorganize it to obtain a Poisson problem\n",
    "\n",
    "\\begin{align}\n",
    "\\boxed{\\nabla^2 p^{n+1}=\\frac{\\rho}{\\Delta t} \\nabla \\cdot \\mathbf{u}^*.}\n",
    "\\end{align}\n",
    "\n",
    "**Step IV: Velocity correction** \\\n",
    "Once we solve the Poisson problem, we can correct the velocity from ${\\mathbf  {u}}^{*}$ to the next time step $\\mathbf{u}^{n+1}$ \n",
    "\\begin{align}\n",
    "\\mathbf{u}^{n+1}=\\mathbf{u}^*-\\frac{\\Delta t}{\\rho} \\nabla p^{n+1}.\n",
    "\\end{align}\n",
    "\n",
    "---"
   ]
  },
  {
   "cell_type": "markdown",
   "id": "f0917cdd",
   "metadata": {},
   "source": [
    "## Algorithm\n",
    "\n",
    "The code below follows this guide https://www.montana.edu/mowkes/research/source-codes/GuideToCFD.pdf\n"
   ]
  },
  {
   "cell_type": "code",
   "execution_count": null,
   "id": "24231ec0-7672-4c74-9000-f494fd34054c",
   "metadata": {
    "ExecuteTime": {
     "end_time": "2023-10-04T20:47:21.102062Z",
     "start_time": "2023-10-04T20:46:09.951916Z"
    }
   },
   "outputs": [],
   "source": [
    "import numpy as np\n",
    "from tqdm import tqdm\n",
    "import matplotlib.pyplot as plt\n",
    "from scipy import sparse\n",
    "from qiskit.circuit.library import TwoLocal,RealAmplitudes,EfficientSU2,NLocal,PauliTwoDesign,QAOAAnsatz\n",
    "from qiskit.circuit import ParameterVector\n",
    "from qiskit.circuit.library import CXGate, UGate\n",
    "from qiskit_algorithms.minimum_eigensolvers import VQE, NumPyMinimumEigensolver\n",
    "from qiskit_algorithms.eigensolvers import NumPyEigensolver\n",
    "from qiskit_aer.primitives import Estimator as Aer_Estimator\n",
    "from qiskit_aer.primitives import Sampler as Aer_Sampler\n",
    "from qiskit.primitives import Sampler as QSampler\n",
    "from qiskit import Aer, transpile, QuantumCircuit\n",
    "from qiskit_algorithms.optimizers import *\n",
    "import time\n",
    "import dill as pickle\n",
    "import sys\n",
    "import pentapy as pp\n",
    "from quantum_utils import *\n",
    "from qiskit_ibm_runtime import Session, QiskitRuntimeService, Options\n",
    "from qiskit_ibm_runtime import Estimator as Estimator_Runtime\n",
    "from qiskit_ibm_runtime import Sampler as Sampler_Runtime\n",
    "from vqls_prototype.tomography import HTreeQST\n",
    "\n",
    "\n",
    "\n",
    "solver = 'sparse'\n",
    "res_tol = 1e-6\n",
    "size = 2\n",
    "Lx = 1              # length of domian in x-direction\n",
    "Ly = 1              # length of domian in y-direction\n",
    "n = size             # Half the number of qubits\n",
    "nx = 2**n            # grid size in x-direction. Fixed to be in terms of number of qubits\n",
    "ny = 2**n            # grid size in y-direction. Fixed to be in terms of number of qubits and square\n",
    "quantum = True\n",
    "hardware = True\n",
    "q_method = \"Global\"\n",
    "Re = 100          # Reynolds number\n",
    "nu = 1/Re           # kinematic viscosity\n",
    "rho = 1.0           # density\n",
    "dt = 0.001          # time step size. \n",
    "itr = 30      # iterations\n",
    "\n",
    "# Create staggered grid index system\n",
    "imin, jmin = 1, 1\n",
    "imax = imin + nx - 1\n",
    "jmax = jmin + ny - 1\n",
    "\n",
    "# Define ghost cells for boundary conditions\n",
    "#x = np.zeros(jmax + 2)\n",
    "x = sparse.lil_matrix((jmax+2,1))\n",
    "#y = np.zeros(jmax + 2)\n",
    "y = sparse.lil_matrix((jmax+2,1))\n",
    "x[imin: imax + 2] = np.linspace(0, Lx, nx + 1, endpoint=True)\n",
    "y[jmin: jmax + 2] = np.linspace(0, Ly, ny + 1, endpoint=True)\n",
    "\n",
    "dx = (x[imin + 1] - x[imin]).data[0]\n",
    "dy = (y[jmin + 1] - y[jmin]).data[0]\n",
    "dxi = 1 / dx\n",
    "dyi = 1 / dy\n",
    "\n",
    "# Variable declaration\n",
    "u = sparse.lil_matrix((imax + 2, jmax + 2))\n",
    "v = sparse.lil_matrix((imax + 2, jmax + 2))\n",
    "\n",
    "def boundary_condition(u, v):\n",
    "    u[imin, jmin - 1:jmax + 1] = 0\n",
    "    u[imax + 1, jmin - 1:jmax + 1] = 0\n",
    "    u[imin: imax + 2, jmin - 1] = -u[imin: imax + 2, jmin]\n",
    "    u[imin: imax + 2, jmax + 1] = 2*np.ones((jmax+1,imax + 1-imax)) - u[imin: imax + 2, jmax]\n",
    "\n",
    "\n",
    "    v[imin - 1: imax + 2, jmin] = 0\n",
    "    v[imin - 1: imax + 2, jmax + 1] = 0\n",
    "    v[imin - 1, jmin:jmax + 1] = -v[imin, jmin:jmax + 1]\n",
    "    v[imax + 1, jmin:jmax + 1] = -v[imax, jmin:jmax + 1]\n",
    "if quantum:\n",
    "    L = two_d_laplacian_paulis(n)\n",
    "else:\n",
    "    if solver in ['sparse', 'random']:\n",
    "        L = form_two_d_poisson(nx,ny)\n",
    "    else:\n",
    "        L = Laplacian_d(nx,ny)\n",
    "try:\n",
    "    store_classical\n",
    "except:\n",
    "    store_classical = {}\n",
    "try:\n",
    "    store_quantum\n",
    "except:\n",
    "    store_quantum = {}\n",
    "try:\n",
    "    store_hardware \n",
    "except:\n",
    "    store_hardware = {}\n",
    "beg = time.time()\n",
    "for iteration in range(itr):\n",
    "    \n",
    "    # u-momentum\n",
    "    us = u.copy()\n",
    "    u_lst = u.copy()\n",
    "    I = slice(imin + 1, imax + 1)\n",
    "    Ib = slice(imin, imax)\n",
    "    If = slice(imin + 2, imax + 2)\n",
    "\n",
    "\n",
    "    J = slice(jmin, jmax + 1)\n",
    "    Jb = slice(jmin - 1, jmax)\n",
    "    Jf = slice(jmin + 1, jmax + 2)\n",
    "\n",
    "\n",
    "    v_here = 0.25 * (v[Ib, J] + v[Ib, Jf] + v[I, J] + v[I, Jf])\n",
    "    us[I, J] = u[I, J] + dt * (\n",
    "            nu * (u[Ib, J] - 2 * u[I, J] + u[If, J]) * dxi ** 2\n",
    "            + nu * (u[I, Jb] - 2 * u[I, J] + u[I, Jf]) * dyi ** 2\n",
    "            - v_here.multiply(u[I, Jf] - u[I, Jb]) * 0.5 * dyi \n",
    "            - u[I, J].multiply(u[If, J] - u[Ib, J]) * 0.5 * dxi\n",
    "    )\n",
    "\n",
    "\n",
    "    # v-momentum\n",
    "    vs = v.copy()\n",
    "    v_lst = v.copy()\n",
    "    I = slice(imin, imax + 1)\n",
    "    Ib = slice(imin - 1, imax)\n",
    "    If = slice(imin + 1, imax + 2)\n",
    "\n",
    "\n",
    "    J = slice(jmin + 1, jmax + 1)\n",
    "    Jb = slice(jmin, jmax)\n",
    "    Jf = slice(jmin + 2, jmax + 2)\n",
    "\n",
    "\n",
    "    u_here = 0.25 * (u[I, Jb] + u[I, J] + u[If, Jb] + u[If, J])\n",
    "    vs[I, J] = v[I, J] + dt * (\n",
    "            nu * (v[Ib, J] - 2 * v[I, J] + v[If, J]) * dxi ** 2\n",
    "            + nu * (v[I, Jb] - 2 * v[I, J] + v[I, Jf]) * dyi ** 2\n",
    "            - u_here.multiply(v[If, J] - v[Ib, J]) * 0.5 * dxi\n",
    "            - v[I, J].multiply(v[I, Jf] - v[I, Jb]) * 0.5 * dyi\n",
    "    )\n",
    "\n",
    "    # Claculate R.H.S of pressure Poisson\n",
    "    Rn = -rho / dt * ((us[imin + 1: imax + 2, jmin: jmax + 1]\n",
    "                       - us[imin: imax + 1, jmin: jmax + 1]) * dx\n",
    "                      + (vs[imin: imax + 1, jmin + 1: jmax + 2]\n",
    "                       - vs[imin: imax + 1, jmin: jmax + 1]) * dy)  \n",
    "    R = Rn.T.reshape((1,nx*ny))\n",
    "    R_sparse = sparse.lil_matrix(R).T\n",
    "    if quantum:\n",
    "        if  R.count_nonzero() == 0:\n",
    "            pv = np.zeros(nx*ny)\n",
    "            pn = pv.reshape(ny, nx).T\n",
    "            q_solve = False\n",
    "        else:\n",
    "            b = R_sparse/sparse.linalg.norm(R_sparse)\n",
    "            q_solve = True\n",
    "        #def pressure_correct_quantum(imax, jmax, rhsp, Ap, p, alpha):\n",
    "        if q_solve:\n",
    "            outer_b = sparse.vstack(b) * sparse.vstack(b).T\n",
    "            outer_b = SparsePauliOp.from_operator(Operator(outer_b.todense()))\n",
    "            num_qubits = 2*n\n",
    "            prep_circ = QuantumCircuit(num_qubits)\n",
    "            for qubit in range(num_qubits):\n",
    "                prep_circ.h(qubit)\n",
    "            if q_method == \"Global\":\n",
    "                H_test = L.compose((Ident(2*n)-outer_b)).compose(L)\n",
    "                m_op = H_test.simplify()\n",
    "            elif q_method == \"Local\":\n",
    "                qc = QuantumCircuit(num_qubits)\n",
    "                qc.initialize(b.toarray().T[0],normalize=True)\n",
    "                U = Operator(transpile(qc,basis_gates=['u','cx'],optimization_level=3))\n",
    "                sum_piece =  np.zeros((nx*ny,nx*ny))\n",
    "                for q in range(num_qubits):\n",
    "                    sum_piece += complement_eye(q)\n",
    "                H_test2 = L.T.conj() @ U @ (np.eye(nx*ny) - 1/(num_qubits) * sum_piece) @ U.data.T.conj() @ L\n",
    "                m_op = Operator(H_test2.real)\n",
    "            else:\n",
    "                raise ValueError(\"Quantum method not supported. Should be 'local' or 'global'\")\n",
    "            ansatz = RealAmplitudes(num_qubits,reps=num_qubits-1, initial_state=prep_circ)\n",
    "\n",
    "            # Solve pressure correction implicitly and update pressure\n",
    "            if not hardware:\n",
    "                optimizer = L_BFGS_B(maxfun=90000, maxiter=50000, ftol=1e-18,max_evals_grouped=8)\n",
    "                #optimizer = COBYLA(maxiter=1000,tol=1e-18,rhobeg=1)\n",
    "                counts = []\n",
    "                values = []\n",
    "                std_vals = []\n",
    "                def store_intermediate_result(eval_count, parameters, mean, std):\n",
    "                    counts.append(eval_count)\n",
    "                    values.append(mean)\n",
    "                    std_vals.append(std)\n",
    "                est = Aer_Estimator(run_options={\"shots\": None},approximation = True)\n",
    "                if iteration < 2:\n",
    "                    ip = np.random.rand(ansatz.num_parameters)\n",
    "                else:\n",
    "                    ip = result_sim.optimal_point\n",
    "                \n",
    "                vqe = VQE(est,ansatz,optimizer,initial_point=ip,callback=store_intermediate_result)\n",
    "                result_sim = vqe.compute_minimum_eigenvalue(m_op)\n",
    "                eig = result_sim.eigenvalue\n",
    "                fixed_params = result_sim.optimal_point\n",
    "                opt_circ = result_sim.optimal_circuit.assign_parameters(fixed_params)\n",
    "                opt_state = Statevector(opt_circ)\n",
    "            else:\n",
    "                #Run simulation of VQE and keep the optimal parameters for use on hardware\n",
    "                optimizer = L_BFGS_B(maxfun=90000, maxiter=50000, ftol=1e-18,max_evals_grouped=8)\n",
    "                #optimizer = COBYLA(maxiter=1000,tol=1e-18,rhobeg=1)\n",
    "\n",
    "                counts = []\n",
    "                values = []\n",
    "                std_vals = []\n",
    "                def store_intermediate_result(eval_count, parameters, mean, std):\n",
    "                    counts.append(eval_count)\n",
    "                    values.append(mean)\n",
    "                    #std_vals.append(std['variance'])\n",
    "                est = Aer_Estimator(run_options={\"shots\": None},approximation = True)\n",
    "                if iteration < 2:\n",
    "                    ip = np.random.rand(ansatz.num_parameters)\n",
    "                else:\n",
    "                    ip = result_sim.optimal_point\n",
    "                \n",
    "                vqe = VQE(est,ansatz,optimizer,initial_point=ip,callback=store_intermediate_result)\n",
    "                result_sim = vqe.compute_minimum_eigenvalue(m_op)\n",
    "                eig = result_sim.eigenvalue\n",
    "                fixed_params = result_sim.optimal_point\n",
    "                \n",
    "                #Hardware block\n",
    "                service = QiskitRuntimeService(name='ornl')\n",
    "\n",
    "                options = Options()\n",
    "                shots = 8192\n",
    "                options.execution.shots = shots\n",
    "                options.optimization_level = 2  # Circuit level optimization\n",
    "                options.resilience_level = 1 # SPAM mitigation\n",
    "                options.transpilation.routing_method = 'sabre'\n",
    "                options.transpilation.layout_method = 'noise_adaptive'\n",
    "                device = service.get_backend('ibm_algiers')\n",
    "                \n",
    "                with Session(service=service, backend=device) as session:\n",
    "                    #estimator_sim = Estimator_Runtime(session=session, options=options)\n",
    "                    sampler_sim = Sampler_Runtime(session=session, options=options)\n",
    "                    ht_samp = HTreeQST(ansatz,sampler_sim)\n",
    "                    #job = estimator_sim.run(result_sim.optimal_circuit.assign_parameters(fixed_params),observables=m_op)\n",
    "                    job_samp = ht_samp.get_statevector(fixed_params)\n",
    "                \n",
    "                #hardware_res = job.result().values[0]\n",
    "                store_hardware.update({iteration:{'job':job_samp}})\n",
    "                opt_circ = result_sim.optimal_circuit.assign_parameters(fixed_params)\n",
    "                opt_state = Statevector(opt_circ)\n",
    "                print(\"Hardware result\",job_samp,'\\n Simulator result:',opt_state.data.real)\n",
    "\n",
    "            \n",
    "\n",
    "            #opt_circ = transpile(opt_circ,basis_gates=['u','cx'],optimization_level=0)        \n",
    "            #backend = Aer.get_backend('statevector_simulator')\n",
    "            #vqes = backend.run(opt_circ)\n",
    "            #res = vqes.result()\n",
    "        \n",
    "            def rescale_sol(A,p,b):\n",
    "                rescale = A.to_matrix() @ p\n",
    "                nzs2 = np.argmax(np.abs(b))\n",
    "                scale_factor = b[nzs2]/rescale[nzs2]\n",
    "                return scale_factor\n",
    "            \n",
    "            exact_h = NumPyMinimumEigensolver().compute_minimum_eigenvalue(SparsePauliOp.from_operator(m_op))\n",
    "            \n",
    "            pv = opt_state.data.real\n",
    "            scale = rescale_sol(L,pv,b).data[0][0]\n",
    "            pv = scale*pv*sparse.linalg.norm(R_sparse)\n",
    "            \n",
    "            pv_h = exact_h.eigenstate.data.real\n",
    "            scale_h = rescale_sol(L,pv_h,b).data[0][0]\n",
    "            pv_h = scale_h*pv_h*sparse.linalg.norm(R_sparse)\n",
    "            \n",
    "            if hardware:\n",
    "                pv_hw = job_samp\n",
    "                scale = rescale_sol(L,pv_hw,b).data[0][0]\n",
    "                pv_hw = scale*pv_hw*sparse.linalg.norm(R_sparse)\n",
    "                pn = pv_hw.reshape(ny, nx).T\n",
    "                store_quantum.update({iteration:{'p' :pv,'result':result_sim,'p_h':pv_h,'p_hw':pv_hw,\n",
    "                                                 'hw_error':np.max(L.to_matrix() @ pv_hw - R ).real}})\n",
    "            else:\n",
    "                store_quantum.update({iteration:{'p' :pv,'result':result_sim,'p_h':pv_h}})\n",
    "\n",
    "\n",
    "            print(\"Iteration: \", iteration, \" found eigenvalue:\",result_sim.eigenvalue,\n",
    "             \"Sim Error:\",np.max(L.to_matrix() @ pv - R ).real, \"HW Error\",np.max(L.to_matrix() @ pv_hw - R ).real)\n",
    "            \n",
    "    else:\n",
    "        if solver =='sparse':\n",
    "            pv = sparse.linalg.spsolve(L,R_sparse)\n",
    "        elif solver =='dense':\n",
    "            pv = np.linalg.solve(L_dense,R)\n",
    "        elif solver =='pdiag':\n",
    "            pv = pp.solve(L_dense,R)\n",
    "        elif solver =='random':\n",
    "            pv = sparse.lil_matrix((imax , jmax ))\n",
    "        store_classical.update({iteration:(pv,R)})\n",
    "    p = sparse.lil_matrix((imax + 1, jmax + 1))\n",
    "    p[1:, 1:] = pn\n",
    "    # Correct velocity\n",
    "    u[imin + 1: imax + 1, jmin: jmax + 1] = us[imin + 1: imax + 1, jmin: jmax + 1] - dt / rho * (\n",
    "                p[imin + 1: imax + 1, jmin: jmax + 1] - p[imin: imax, jmin: jmax + 1]) * dxi\n",
    "    v[imin: imax + 1, jmin + 1: jmax + 1] = vs[imin: imax + 1, jmin + 1: jmax + 1] - dt / rho * (\n",
    "                p[imin: imax + 1, jmin + 1: jmax + 1] - p[imin: imax + 1, jmin: jmax]) * dyi\n",
    "    \n",
    "    boundary_condition(u, v)"
   ]
  },
  {
   "cell_type": "code",
   "execution_count": null,
   "id": "d621f6e9-9bf7-4eec-bb28-7048ef8d84ef",
   "metadata": {},
   "outputs": [],
   "source": [
    "pickle.dump(store_quantum,open('Hardware_Algiers_30.p','wb'))"
   ]
  },
  {
   "cell_type": "code",
   "execution_count": 126,
   "id": "ddf1b2f8-9ffc-4d2c-819c-ca447eba4809",
   "metadata": {},
   "outputs": [],
   "source": [
    "hw_error = [0.015597487824820587,0.02496890538341343,0.024994490899752888,0.02202701258272808]"
   ]
  },
  {
   "cell_type": "code",
   "execution_count": 129,
   "id": "492c08e7-53ec-497f-a6f3-043a301e1632",
   "metadata": {},
   "outputs": [
    {
     "data": {
      "text/plain": [
       "Text(0, 0.5, 'Error')"
      ]
     },
     "execution_count": 129,
     "metadata": {},
     "output_type": "execute_result"
    },
    {
     "data": {
      "image/png": "[encoded data removed]",
      "text/plain": [
       "<Figure size 640x480 with 1 Axes>"
      ]
     },
     "metadata": {},
     "output_type": "display_data"
    }
   ],
   "source": [
    "plt.scatter(range(1,5),hw_error,label='IBM_Mumbai')\n",
    "plt.legend()\n",
    "plt.xticks(range(1,5))\n",
    "plt.xlabel('Iteration')\n",
    "plt.ylabel('Error')"
   ]
  },
  {
   "cell_type": "code",
   "execution_count": 19,
   "id": "46c54ac5-641d-4a4c-8c53-e5b5d79718f0",
   "metadata": {},
   "outputs": [
    {
     "data": {
      "text/plain": [
       "<matplotlib.legend.Legend at 0x7f37ac331a60>"
      ]
     },
     "execution_count": 19,
     "metadata": {},
     "output_type": "execute_result"
    },
    {
     "data": {
      "image/png": "[encoded data removed]",
      "text/plain": [
       "<Figure size 640x480 with 1 Axes>"
      ]
     },
     "metadata": {},
     "output_type": "display_data"
    }
   ],
   "source": [
    "plt.errorbar(range(1,5),[store_quantum[i]['result'].eigenvalue for i in range(1,5)],\n",
    "             yerr=[store_hardware[i]['job'].result().metadata[0]['variance']/store_hardware[i]['job'].result().metadata[0]['shots'] for i in range(1,5)],label='QASM-Simulator')\n",
    "plt.errorbar(range(1,5),[store_hardware[i]['eig'] for i in range(1,5)],\n",
    "             yerr=[store_hardware[i]['job'].result().metadata[0]['variance']/store_hardware[i]['job'].result().metadata[0]['shots'] for i in range(1,5)],label='IBM Mumbai')\n",
    "plt.xlabel(\"Iteration\")\n",
    "plt.ylabel(\"Eigenvalue\")\n",
    "plt.xticks(range(1,5))\n",
    "plt.legend()"
   ]
  },
  {
   "cell_type": "markdown",
   "id": "06e0766f",
   "metadata": {},
   "source": [
    "## Benchmark"
   ]
  },
  {
   "cell_type": "code",
   "execution_count": 20,
   "id": "5a229815",
   "metadata": {
    "ExecuteTime": {
     "end_time": "2023-10-04T20:51:00.157613Z",
     "start_time": "2023-10-04T20:50:59.960566Z"
    }
   },
   "outputs": [
    {
     "data": {
      "image/png": "[encoded data removed]",
      "text/plain": [
       "<Figure size 640x480 with 2 Axes>"
      ]
     },
     "metadata": {},
     "output_type": "display_data"
    }
   ],
   "source": [
    "X, Y = np.meshgrid(x.toarray(), y.toarray())\n",
    "plt.figure()\n",
    "plt.contourf(X, Y, u.toarray().T, 80, cmap='jet')\n",
    "plt.colorbar()\n",
    "# plt.axis([0, 1, 0, 1])\n",
    "plt.title(\"Steady U\")\n",
    "plt.show()"
   ]
  },
  {
   "cell_type": "code",
   "execution_count": 21,
   "id": "1fb8cbd0",
   "metadata": {
    "ExecuteTime": {
     "end_time": "2023-10-04T20:28:20.197368Z",
     "start_time": "2023-10-04T20:28:20.183284Z"
    }
   },
   "outputs": [],
   "source": [
    "GhiaU = np.loadtxt('./Benchmark/GhiaU.txt', skiprows=1)\n",
    "GhiaV = np.loadtxt('./Benchmark/GhiaV.txt', skiprows=1)\n",
    "y_Ghia = GhiaU[:, 0]\n",
    "x_Ghia = GhiaV[:, 0]"
   ]
  },
  {
   "cell_type": "code",
   "execution_count": 22,
   "id": "a581a4ab",
   "metadata": {
    "ExecuteTime": {
     "end_time": "2023-10-04T20:28:20.968693Z",
     "start_time": "2023-10-04T20:28:20.954546Z"
    }
   },
   "outputs": [
    {
     "name": "stdout",
     "output_type": "stream",
     "text": [
      "   # Ghia, U. K. N. G., Ghia, K. N., & Shin, C. T. (1982). \n",
      "0   # High-Re solutions for incompressible flow us...      \n",
      "1   # Journal of computational physics, 48(3), 387...      \n",
      "2                                                   #      \n",
      "3                                           # TABLE I      \n",
      "4   # Results for $u$-velocity along Vertical Line...      \n",
      "5   #---------------------------------------------...      \n",
      "6              #                                   Re      \n",
      "7   #       --------------------------------------...      \n",
      "8   #  y      100      400      1000     3200     ...      \n",
      "9   #---------------------------------------------...      \n",
      "10  1.0000  1.00000  1.00000  1.00000  1.00000  1....      \n",
      "11  0.9766  0.84123  0.75837  0.65928  0.53236  0....      \n",
      "12  0.9688  0.78871  0.68439  0.57492  0.48296  0....      \n",
      "13  0.9609  0.73722  0.61756  0.51117  0.46547  0....      \n",
      "14  0.9531  0.68717  0.55892  0.46604  0.46101  0....      \n",
      "15  0.8516  0.23151  0.29093  0.33304  0.34682  0....      \n",
      "16  0.7344  0.00332  0.16256  0.18719  0.19791  0....      \n",
      "17  0.6172 -0.13641  0.02135  0.05702  0.07156  0....      \n",
      "18  0.5000 -0.20581 -0.11477 -0.06080 -0.04272 -0....      \n",
      "19  0.4531 -0.21090 -0.17119 -0.10648 -0.86636 -0....      \n",
      "20  0.2813 -0.15662 -0.32726 -0.27805 -0.24427 -0....      \n",
      "21  0.1719 -0.10150 -0.24299 -0.38289 -0.34323 -0....      \n",
      "22  0.1016 -0.06434 -0.14612 -0.29730 -0.41933 -0....      \n",
      "23  0.0703 -0.04775 -0.10338 -0.22220 -0.37827 -0....      \n",
      "24  0.0625 -0.04192 -0.09266 -0.20196 -0.35344 -0....      \n",
      "25  0.0547 -0.03717 -0.08186 -0.18109 -0.32407 -0....      \n",
      "26  0.0000  0.00000  0.00000  0.00000  0.00000  0....      \n"
     ]
    }
   ],
   "source": [
    "# Understand what's inside the benchmark data\n",
    "import pandas as pd\n",
    "# pd.set_option('display.max_columns', None)\n",
    "df = pd.read_table(\"./Benchmark/GhiaU.txt\", skiprows=0, delimiter='\\r')\n",
    "print(df)"
   ]
  },
  {
   "cell_type": "code",
   "execution_count": 23,
   "id": "c9a19dd6",
   "metadata": {
    "ExecuteTime": {
     "end_time": "2023-10-04T20:51:06.587091Z",
     "start_time": "2023-10-04T20:51:06.449141Z"
    }
   },
   "outputs": [
    {
     "data": {
      "text/plain": [
       "<matplotlib.legend.Legend at 0x7f379dd95a90>"
      ]
     },
     "execution_count": 23,
     "metadata": {},
     "output_type": "execute_result"
    },
    {
     "data": {
      "image/png": "[encoded data removed]",
      "text/plain": [
       "<Figure size 640x480 with 1 Axes>"
      ]
     },
     "metadata": {},
     "output_type": "display_data"
    }
   ],
   "source": [
    "plt.plot(y.toarray(), u.toarray()[len(u.toarray())//2,:].T, label=\"Projection\")\n",
    "plt.plot(y_Ghia, GhiaU[:, 1], 'ro', label = \"Ghia et al. (1982)\")\n",
    "plt.grid()\n",
    "plt.xlabel(\"y\")\n",
    "plt.ylabel(\"U Velocity\")\n",
    "plt.legend()"
   ]
  },
  {
   "cell_type": "code",
   "execution_count": null,
   "id": "db36f945",
   "metadata": {},
   "outputs": [],
   "source": []
  }
 ],
 "metadata": {
  "kernelspec": {
   "display_name": "Python 3 (ipykernel)",
   "language": "python",
   "name": "python3"
  },
  "language_info": {
   "codemirror_mode": {
    "name": "ipython",
    "version": 3
   },
   "file_extension": ".py",
   "mimetype": "text/x-python",
   "name": "python",
   "nbconvert_exporter": "python",
   "pygments_lexer": "ipython3",
   "version": "3.8.17"
  },
  "toc": {
   "base_numbering": 1,
   "nav_menu": {},
   "number_sections": true,
   "sideBar": true,
   "skip_h1_title": false,
   "title_cell": "Table of Contents",
   "title_sidebar": "Contents",
   "toc_cell": false,
   "toc_position": {},
   "toc_section_display": true,
   "toc_window_display": false
  },
  "varInspector": {
   "cols": {
    "lenName": 16,
    "lenType": 16,
    "lenVar": 40
   },
   "kernels_config": {
    "python": {
     "delete_cmd_postfix": "",
     "delete_cmd_prefix": "del ",
     "library": "var_list.py",
     "varRefreshCmd": "print(var_dic_list())"
    },
    "r": {
     "delete_cmd_postfix": ") ",
     "delete_cmd_prefix": "rm(",
     "library": "var_list.r",
     "varRefreshCmd": "cat(var_dic_list()) "
    }
   },
   "types_to_exclude": [
    "module",
    "function",
    "builtin_function_or_method",
    "instance",
    "_Feature"
   ],
   "window_display": false
  }
 },
 "nbformat": 4,
 "nbformat_minor": 5
}
