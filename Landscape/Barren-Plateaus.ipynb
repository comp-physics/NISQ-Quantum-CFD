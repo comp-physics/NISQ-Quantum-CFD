{
 "cells": [
  {
   "cell_type": "markdown",
   "id": "4ca46a07",
   "metadata": {
    "heading_collapsed": true
   },
   "source": [
    "## Chorin's Projection\n",
    "\n",
    "In this notebook, we will compare various preconditioner for the linear system and how it improve trainability of VQE."
   ]
  },
  {
   "cell_type": "markdown",
   "id": "76d4cce5-04d0-4beb-99f9-a6f4ff0a4a4d",
   "metadata": {},
   "source": [
    "### Main Algorithm"
   ]
  },
  {
   "cell_type": "code",
   "execution_count": 7,
   "id": "7299dec3",
   "metadata": {
    "ExecuteTime": {
     "end_time": "2024-03-24T22:12:59.572163Z",
     "start_time": "2024-03-24T22:12:59.466164Z"
    },
    "hidden": true
   },
   "outputs": [
    {
     "name": "stderr",
     "output_type": "stream",
     "text": [
      "100%|████████████████████████████████████████████████████████████████████████████████████████████████████████████████████████| 10/10 [00:00<00:00, 3328.81it/s]\n"
     ]
    }
   ],
   "source": [
    "import numpy as np\n",
    "from tqdm import tqdm\n",
    "import matplotlib.pyplot as plt\n",
    "\n",
    "Lx = 1              # length of domian in x-direction\n",
    "Ly = 1              # length of domian in y-direction\n",
    "nx = 4              # grid size in x-direction\n",
    "ny = 4              # grid size in y-direction\n",
    "\n",
    "Re = 100            # Reynolds number\n",
    "nu = 1/Re           # kinematic viscosity\n",
    "rho = 1.0           # density\n",
    "dt =  1             # time step size\n",
    "itr = 10             # iterations\n",
    "velocity = 1.0\n",
    "\n",
    "# Create staggered grid index system\n",
    "imin, jmin = 1, 1\n",
    "imax = imin + nx - 1\n",
    "jmax = jmin + ny - 1\n",
    "\n",
    "# Define ghost cells for boundary conditions\n",
    "x = np.zeros(jmax + 2)\n",
    "y = np.zeros(jmax + 2)\n",
    "x[imin: imax + 2] = np.linspace(0, Lx, nx + 1, endpoint=True)\n",
    "y[jmin: jmax + 2] = np.linspace(0, Ly, ny + 1, endpoint=True)\n",
    "\n",
    "dx = x[imin + 1] - x[imin]\n",
    "dy = y[jmin + 1] - y[jmin]\n",
    "dxi = 1 / dx\n",
    "dyi = 1 / dy\n",
    "\n",
    "# Define Laplacian\n",
    "def Laplacian(nx, ny, dxi, dyi):\n",
    "    Dx = np.diag(np.ones(nx)) * 2 - np.diag(np.ones(nx - 1), 1) - np.diag(np.ones(nx - 1), -1)\n",
    "    Dx[0, 0] = 1\n",
    "    Dx[-1, -1] = 1\n",
    "    Ix = np.diag(np.ones(ny))\n",
    "    Dy = np.diag(np.ones(ny)) * 2 - np.diag(np.ones(ny - 1), 1) - np.diag(np.ones(ny - 1), -1)\n",
    "    Dy[0, 0] = 1\n",
    "    Dy[-1, -1] = 1\n",
    "    Iy = np.diag(np.ones(nx))\n",
    "    L = np.kron(Ix, Dx) * dxi ** 2 + np.kron(Dy, Iy) * dyi ** 2\n",
    "    return L\n",
    "\n",
    "L = Laplacian(nx, ny, dxi, dyi)\n",
    "L[0,:]=0\n",
    "L[0,0]=1\n",
    "\n",
    "\n",
    "# Variable declaration\n",
    "u = np.zeros((imax + 2, jmax + 2))\n",
    "v = np.zeros((imax + 2, jmax + 2))\n",
    "\n",
    "res_hist_classical = []\n",
    "for timestep in tqdm(range(itr)):\n",
    "    \n",
    "    # u-momentum\n",
    "    us = u.copy()\n",
    "    u_old = u.copy()\n",
    "    I = slice(imin + 1, imax + 1)\n",
    "    Ib = slice(imin, imax)\n",
    "    If = slice(imin + 2, imax + 2)\n",
    "    J = slice(jmin, jmax + 1)\n",
    "    Jb = slice(jmin - 1, jmax)\n",
    "    Jf = slice(jmin + 1, jmax + 2)\n",
    "\n",
    "    v_here = 0.25 * (v[Ib, J] + v[Ib, Jf] + v[I, J] + v[I, Jf])\n",
    "    us[I, J] = u[I, J] + dt * (\n",
    "            nu * (u[Ib, J] - 2 * u[I, J] + u[If, J]) * dxi ** 2\n",
    "            + nu * (u[I, Jb] - 2 * u[I, J] + u[I, Jf]) * dyi ** 2\n",
    "            - v_here * (u[I, Jf] - u[I, Jb]) * 0.5 * dyi\n",
    "            - u[I, J] * (u[If, J] - u[Ib, J]) * 0.5 * dxi\n",
    "    )\n",
    "\n",
    "\n",
    "    # v-momentum\n",
    "    vs = v.copy()\n",
    "    v_old = v.copy()\n",
    "    I = slice(imin, imax + 1)\n",
    "    Ib = slice(imin - 1, imax)\n",
    "    If = slice(imin + 1, imax + 2)\n",
    "    J = slice(jmin + 1, jmax + 1)\n",
    "    Jb = slice(jmin, jmax)\n",
    "    Jf = slice(jmin + 2, jmax + 2)\n",
    "\n",
    "    u_here = 0.25 * (u[I, Jb] + u[I, J] + u[If, Jb] + u[If, J])\n",
    "    vs[I, J] = v[I, J] + dt * (\n",
    "            nu * (v[Ib, J] - 2 * v[I, J] + v[If, J]) * dxi ** 2\n",
    "            + nu * (v[I, Jb] - 2 * v[I, J] + v[I, Jf]) * dyi ** 2\n",
    "            - u_here * (v[If, J] - v[Ib, J]) * 0.5 * dxi\n",
    "            - v[I, J] * (v[I, Jf] - v[I, Jb]) * 0.5 * dyi\n",
    "    )\n",
    "\n",
    "\n",
    "    # Claculate R.H.S of pressure Poisson\n",
    "    Rn = -rho / dt * ((us[imin + 1: imax + 2, jmin: jmax + 1]\n",
    "                       - us[imin: imax + 1, jmin: jmax + 1]) * dxi\n",
    "                      + (vs[imin: imax + 1, jmin + 1: jmax + 2]\n",
    "                       - vs[imin: imax + 1, jmin: jmax + 1]) * dyi)\n",
    "    \n",
    "    R = Rn.T.ravel()\n",
    "    \n",
    "    # Prepare linear system for VQE\n",
    "    pv = np.linalg.solve(L, R)\n",
    "\n",
    "    pn = pv.reshape(ny, nx).T\n",
    "    p = np.zeros((imax + 1, jmax + 1))\n",
    "    p[1:, 1:] = pn\n",
    "    p[0, 0] = 0\n",
    "\n",
    "\n",
    "    # Correct velocity\n",
    "    u[imin + 1: imax + 1, jmin: jmax + 1] = us[imin + 1: imax + 1, jmin: jmax + 1] - dt / rho * (\n",
    "                p[imin + 1: imax + 1, jmin: jmax + 1] - p[imin: imax, jmin: jmax + 1]) * dxi\n",
    "    v[imin: imax + 1, jmin + 1: jmax + 1] = vs[imin: imax + 1, jmin + 1: jmax + 1] - dt / rho * (\n",
    "                p[imin: imax + 1, jmin + 1: jmax + 1] - p[imin: imax + 1, jmin: jmax]) * dyi\n",
    "    \n",
    "    # Update BCs\n",
    "    v[imin,:] = 0.0                   # left wall\n",
    "    v[imax+1,:] = 0.0                 # right wall\n",
    "    v[:, jmin-1] = -v[:, jmin]        # bottom wall\n",
    "    v[:, jmax+1] = -v[:, jmax]        # top wall\n",
    "\n",
    "    u[imin-1, :] = -u[imin, :]        # left wall\n",
    "    u[imax+1, :] = -u[imax, :]        # right wall\n",
    "    u[:,imin] = 0                     # bottom wall\n",
    "    u[:,imax+1] = velocity            # top wall\n",
    "    \n",
    "    # Find maximum residual in the domain\n",
    "    v_res = np.abs(v - v_old)\n",
    "    u_res = np.abs(u - u_old)\n",
    "    max_res_u = np.max(u_res)\n",
    "    max_res_v = np.max(v_res)\n",
    "    max_res = max(max_res_u, max_res_v)\n",
    "    res_hist_classical.append(max_res)"
   ]
  },
  {
   "cell_type": "code",
   "execution_count": 8,
   "id": "9e725cf0",
   "metadata": {
    "ExecuteTime": {
     "end_time": "2024-03-24T22:13:00.484930Z",
     "start_time": "2024-03-24T22:13:00.083566Z"
    },
    "hidden": true
   },
   "outputs": [
    {
     "name": "stdout",
     "output_type": "stream",
     "text": [
      "Final Iteration = 10; Residual = 0.0006465359449114236\n"
     ]
    },
    {
     "data": {
      "image/png": "[encoded data removed]",
      "text/plain": [
       "<Figure size 640x480 with 1 Axes>"
      ]
     },
     "metadata": {},
     "output_type": "display_data"
    }
   ],
   "source": [
    "# Final residual        \n",
    "print(f\"Final Iteration = {itr}; Residual = {max_res}\")\n",
    "plt.plot(np.arange(itr), res_hist_classical)\n",
    "plt.xlabel(\"Time steps\")\n",
    "plt.ylabel(\"Residual\")\n",
    "plt.title(\"Projection method, Re=100\")\n",
    "# plt.grid()\n",
    "ax = plt.gca()\n",
    "ax.set_yscale(\"log\")"
   ]
  },
  {
   "cell_type": "code",
   "execution_count": 14,
   "id": "24be3532",
   "metadata": {
    "ExecuteTime": {
     "end_time": "2024-03-24T14:19:17.227239Z",
     "start_time": "2024-03-24T14:19:17.216625Z"
    },
    "hidden": true
   },
   "outputs": [],
   "source": [
    "# Solve x here \n",
    "b = R/np.linalg.norm(R)\n",
    "x = np.linalg.solve(L, b)\n",
    "x_norm = np.linalg.norm(x)\n",
    "x_normalized = x/np.linalg.norm(x)"
   ]
  },
  {
   "cell_type": "markdown",
   "id": "d9ad1828",
   "metadata": {
    "heading_collapsed": true
   },
   "source": [
    "### Encode into Hamiltonian"
   ]
  },
  {
   "cell_type": "code",
   "execution_count": 15,
   "id": "5bae16e6",
   "metadata": {
    "ExecuteTime": {
     "end_time": "2024-03-24T14:19:24.824455Z",
     "start_time": "2024-03-24T14:19:24.774542Z"
    },
    "hidden": true
   },
   "outputs": [],
   "source": [
    "from qiskit.quantum_info.operators import Operator, SparsePauliOp\n",
    "from qiskit.quantum_info import Pauli\n",
    "\n",
    "N = 4        # number of qubits\n",
    "dim = 2**N   # dimension of the operator \n",
    "b = b.reshape([dim, 1])\n",
    "H_test = L.conj().T@(np.eye(dim)- b@b.T)@L\n",
    "H = SparsePauliOp.from_operator(Operator(H_test))"
   ]
  },
  {
   "cell_type": "markdown",
   "id": "030bf3dc",
   "metadata": {
    "heading_collapsed": true
   },
   "source": [
    "## Preconditioning"
   ]
  },
  {
   "cell_type": "markdown",
   "id": "5b5c5e13",
   "metadata": {
    "hidden": true
   },
   "source": [
    "### Jacobi\n",
    "\n",
    "$$\n",
    "M_{\\text{Jacobi}}^{-1} = \\text{diag}(A)^{-1}\n",
    "$$"
   ]
  },
  {
   "cell_type": "code",
   "execution_count": 17,
   "id": "7f163e74",
   "metadata": {
    "ExecuteTime": {
     "end_time": "2024-03-24T14:19:30.788004Z",
     "start_time": "2024-03-24T14:19:30.748812Z"
    },
    "hidden": true
   },
   "outputs": [
    {
     "name": "stdout",
     "output_type": "stream",
     "text": [
      "Number of Pauli strings =  136\n",
      "Condition number =  443.65862764187796\n",
      "Condition number =  78.15719743270014\n"
     ]
    }
   ],
   "source": [
    "M = np.linalg.inv(np.diag(np.diag(L)))\n",
    "\n",
    "# upper_diagonal = np.diagonal(L, offset=1)\n",
    "# lower_diagonal = np.diagonal(L, offset=-1)\n",
    "# M3 = np.linalg.inv(np.diag(np.diag(L)) + np.diag(upper_diagonal, k=1) + np.diag(lower_diagonal, k=-1))\n",
    "\n",
    "L_new = M@L\n",
    "b_new = M@b\n",
    "b_new = b_new /np.linalg.norm(b_new)\n",
    "H_jacobi = L_new.conj().T@(np.eye(dim)- b_new@b_new.T)@L_new\n",
    "op_jacobi = SparsePauliOp.from_operator(Operator(H_jacobi))\n",
    "print(\"Number of Pauli strings = \",len(op_jacobi))\n",
    "print(\"Condition number = \", np.linalg.cond(L))\n",
    "print(\"Condition number = \", np.linalg.cond(L_new))"
   ]
  },
  {
   "cell_type": "markdown",
   "id": "225deec1",
   "metadata": {
    "heading_collapsed": true,
    "hidden": true
   },
   "source": [
    "#### Incomplete LU"
   ]
  },
  {
   "cell_type": "code",
   "execution_count": 18,
   "id": "00a251de-e71c-4014-9ce0-8e9e48b7d22c",
   "metadata": {},
   "outputs": [
    {
     "name": "stdout",
     "output_type": "stream",
     "text": [
      "Number of Pauli strings =  136\n",
      "Condition number =  443.65862764187796\n",
      "Condition number with preconditioning =  8.014510861758694\n"
     ]
    }
   ],
   "source": [
    "import pandas as pd\n",
    "\n",
    "# Read the CSV file into a DataFrame\n",
    "df = pd.read_csv('ilu4.csv', header=None)\n",
    "M = df.values\n",
    "\n",
    "L_new = M@L\n",
    "b_new = M@b\n",
    "b_new = b_new/np.linalg.norm(b_new)\n",
    "H_ilu = L_new.conj().T@(np.eye(dim)- b_new@b_new.T)@L_new\n",
    "op_ilu = SparsePauliOp.from_operator(Operator(H_ilu))\n",
    "print(\"Number of Pauli strings = \",len(op_ilu))\n",
    "print(\"Condition number = \", np.linalg.cond(L))\n",
    "print(\"Condition number with preconditioning = \", np.linalg.cond(L_new))"
   ]
  },
  {
   "cell_type": "markdown",
   "id": "fe407673",
   "metadata": {
    "heading_collapsed": true,
    "hidden": true
   },
   "source": [
    "### Sparse approximate inverse (SPAI)"
   ]
  },
  {
   "cell_type": "code",
   "execution_count": 19,
   "id": "cf9c6c7f",
   "metadata": {
    "hidden": true
   },
   "outputs": [],
   "source": [
    "from scipy.sparse import identity\n",
    "from scipy.sparse import diags\n",
    "from scipy.sparse.linalg import onenormest\n",
    "\n",
    "def spai(A, m):\n",
    "    \"\"\"Perform m step of the SPAI iteration.\"\"\"\n",
    "    n = A.shape[0]\n",
    "    ident = identity(n, format='csr')\n",
    "    alpha = 2 / onenormest(A @ A.T)\n",
    "    M = alpha * A\n",
    "        \n",
    "    for index in range(m):\n",
    "        C = A @ M\n",
    "        G = ident - C\n",
    "        AG = A @ G\n",
    "        trace = (G.T @ AG).diagonal().sum()\n",
    "        alpha = trace / np.linalg.norm(AG.data)**2\n",
    "        M = M + alpha * G\n",
    "        \n",
    "    return M"
   ]
  },
  {
   "cell_type": "code",
   "execution_count": 20,
   "id": "c8efe06d",
   "metadata": {
    "hidden": true
   },
   "outputs": [
    {
     "name": "stdout",
     "output_type": "stream",
     "text": [
      "Number of Pauli strings =  136\n",
      "Condition number =  443.65862764187796\n",
      "Condition number =  31.92741902109611\n"
     ]
    }
   ],
   "source": [
    "M = spai(L, 10)\n",
    "L_new = M@L\n",
    "b_new = M@b\n",
    "b_new = b_new /np.linalg.norm(b_new)\n",
    "H_spai = L_new.conj().T@(np.eye(dim)- b_new@b_new.T)@L_new\n",
    "op_spai = SparsePauliOp.from_operator(Operator(H_spai))\n",
    "print(\"Number of Pauli strings = \",len(op_spai))\n",
    "print(\"Condition number = \", np.linalg.cond(L))\n",
    "print(\"Condition number = \", np.linalg.cond(L_new))"
   ]
  },
  {
   "cell_type": "markdown",
   "id": "bda72ce9",
   "metadata": {
    "heading_collapsed": true,
    "hidden": true
   },
   "source": [
    "### Multigrid"
   ]
  },
  {
   "cell_type": "code",
   "execution_count": 22,
   "id": "dde0d0e1-39d3-49bb-9e7b-d3391deb312e",
   "metadata": {},
   "outputs": [],
   "source": [
    "import warnings\n",
    "warnings.filterwarnings(\"ignore\")"
   ]
  },
  {
   "cell_type": "code",
   "execution_count": 23,
   "id": "9fe0b1ad",
   "metadata": {
    "hidden": true
   },
   "outputs": [
    {
     "name": "stdout",
     "output_type": "stream",
     "text": [
      "Number of Pauli strings =  136\n",
      "Condition number =  443.65862764187796\n",
      "Condition number with preconditioning =  1.1322462385523713\n"
     ]
    }
   ],
   "source": [
    "from pyamg.aggregation import smoothed_aggregation_solver\n",
    "\n",
    "ml = smoothed_aggregation_solver(L) \n",
    "op = ml.aspreconditioner(cycle='V')\n",
    "M = op * np.identity(op.shape[1])\n",
    "L_new = M@L\n",
    "b_new = M@b\n",
    "b_new = b_new/np.linalg.norm(b_new)\n",
    "H_amg = L_new.conj().T@(np.eye(dim)- b_new@b_new.T)@L_new\n",
    "op_amg = SparsePauliOp.from_operator(Operator(H_amg))\n",
    "print(\"Number of Pauli strings = \",len(op_amg))\n",
    "print(\"Condition number = \", np.linalg.cond(L))\n",
    "print(\"Condition number with preconditioning = \", np.linalg.cond(L_new))"
   ]
  },
  {
   "cell_type": "markdown",
   "id": "7dbce96d",
   "metadata": {
    "heading_collapsed": true
   },
   "source": [
    "## VQE result"
   ]
  },
  {
   "cell_type": "markdown",
   "id": "182141a6",
   "metadata": {
    "hidden": true
   },
   "source": [
    "### Random initialization"
   ]
  },
  {
   "cell_type": "code",
   "execution_count": 47,
   "id": "e5274e5a",
   "metadata": {
    "ExecuteTime": {
     "end_time": "2024-03-24T14:25:35.943240Z",
     "start_time": "2024-03-24T14:25:35.807946Z"
    },
    "code_folding": [
     43
    ],
    "hidden": true
   },
   "outputs": [
    {
     "name": "stdout",
     "output_type": "stream",
     "text": [
      "================================================================================\n",
      "Seed: 9401\n",
      "State fidelity: 0.999999999670633\n",
      "Function evaluations =  1100\n"
     ]
    }
   ],
   "source": [
    "import random\n",
    "from qiskit import QuantumCircuit\n",
    "from qiskit.circuit.library import TwoLocal,RealAmplitudes,EfficientSU2,NLocal,PauliTwoDesign,QAOAAnsatz\n",
    "from qiskit.quantum_info import Statevector\n",
    "from qiskit_aer.primitives import Estimator as AerEstimator\n",
    "from qiskit_algorithms.minimum_eigensolvers import VQE, NumPyMinimumEigensolver\n",
    "from qiskit_aer import AerSimulator\n",
    "from qiskit_algorithms.optimizers import *\n",
    "from qiskit.quantum_info import state_fidelity\n",
    "\n",
    "random.seed(6)\n",
    "for _ in range(10):\n",
    "    print(\"================================================================================\")\n",
    "    seed = random.randint(0, 10000)\n",
    "    print(\"Seed:\", seed)\n",
    "    rng = np.random.default_rng(seed)\n",
    "\n",
    "    ### ============================= HEA =============================\n",
    "    # ansatz = TwoLocal(N, ['rz','ry','rz'], 'cx', entanglement=\"linear\", reps=5, skip_final_rotation_layer=False)\n",
    "\n",
    "    ### ============================= RAA =============================\n",
    "    ansatz = RealAmplitudes(N, entanglement=\"linear\", reps=5, skip_final_rotation_layer=False)\n",
    "\n",
    "    ### ============================= ALT =============================\n",
    "    # layer1 = [(0, 1), (2, 3)]\n",
    "    # layer2 = [(1, 2)]\n",
    "    # ansatz = RealAmplitudes(N, reps=5, entanglement=[layer1 , layer2], skip_final_rotation_layer=False)\n",
    "    \n",
    "    ### ============================= TEN =============================\n",
    "    # really bad ansatz\n",
    "    # ansatz = RealAmplitudes(N, reps=5, entanglement=[(0, 1), (2, 3)], skip_final_rotation_layer=False)\n",
    "    \n",
    "    ### ============================= QAOA, HVA =============================\n",
    "    # Not considered for now.\n",
    "\n",
    "    ### ============================= Parameter initialization =============================\n",
    "    ip = rng.uniform(-np.pi, np.pi, ansatz.num_parameters)\n",
    "    # print(\"Initial parameters:\", ip)\n",
    "\n",
    "    ### ============================= Optimizer =============================\n",
    "    itr = 20000\n",
    "    # optimizer = L_BFGS_B(maxiter=itr)\n",
    "    # optimizer = L_BFGS_B(maxfun=itr, maxiter=itr, iprint = 99)\n",
    "    optimizer = L_BFGS_B(maxfun=itr, maxiter=itr)\n",
    "#     optimier = GradientDescent()\n",
    "    # optimizer = SPSA(maxiter=itr)\n",
    "#     optimizer = AQGD(maxiter=itr)\n",
    "    # optimizer = COBYLA(maxiter=itr, rhobeg=0.1, tol=1e-9)\n",
    "    # optimizer = COBYLA(maxiter=itr)\n",
    "\n",
    "    ### ============================= VQE =============================\n",
    "    est = AerEstimator(run_options={\"seed\": 6, \"shots\": None}, approximation = True)\n",
    "    # est = AerEstimator(run_options={\"seed\": 6, \"shots\": 1e4}, approximation = False)\n",
    "\n",
    "    # Create the callback function to store intermediate values in vqe\n",
    "    counts = []\n",
    "    values = []\n",
    "    parameters_list=[]\n",
    "    std_list=[]\n",
    "    def store_intermediate_result(eval_count, parameters, mean, std):\n",
    "        counts.append(eval_count)\n",
    "        values.append(mean)\n",
    "        parameters_list.append(parameters)\n",
    "        std_list.append(std)\n",
    " \n",
    "    vqe = VQE(est, ansatz, optimizer, initial_point=ip, callback=store_intermediate_result)\n",
    "    result_sim = vqe.compute_minimum_eigenvalue(op_amg)    # switch to other preconditioned Hamiltonian\n",
    "    eig_sim = result_sim.eigenvalue\n",
    "\n",
    "    ### ============================= Error Analysis =============================\n",
    "    fixed_params = result_sim.optimal_point\n",
    "    opt_circ = result_sim.optimal_circuit.assign_parameters(fixed_params)\n",
    "    opt_state = Statevector(opt_circ).data\n",
    "    fid = state_fidelity(opt_state, x_normalized)\n",
    "    print(\"State fidelity:\", fid)\n",
    "    print(\"Function evaluations = \", result_sim.cost_function_evals)\n",
    "    \n",
    "    if fid >0.99:\n",
    "        break"
   ]
  },
  {
   "cell_type": "code",
   "execution_count": 48,
   "id": "88b16966",
   "metadata": {
    "ExecuteTime": {
     "end_time": "2024-03-20T06:05:33.675607Z",
     "start_time": "2024-03-20T06:05:33.669694Z"
    },
    "hidden": true
   },
   "outputs": [],
   "source": [
    "# cost = values\n",
    "# cost_jacobi = values\n",
    "# cost_spai = values\n",
    "# cost_ilu = values\n",
    "cost_amg = values"
   ]
  },
  {
   "cell_type": "code",
   "execution_count": 49,
   "id": "1e388960",
   "metadata": {
    "ExecuteTime": {
     "end_time": "2024-03-24T14:17:44.327390Z",
     "start_time": "2024-03-24T14:17:44.157862Z"
    },
    "hidden": true
   },
   "outputs": [
    {
     "name": "stdout",
     "output_type": "stream",
     "text": [
      "Function evaluations: 1100\n"
     ]
    },
    {
     "data": {
      "image/png": "[encoded data removed]",
      "text/plain": [
       "<Figure size 640x480 with 1 Axes>"
      ]
     },
     "metadata": {},
     "output_type": "display_data"
    }
   ],
   "source": [
    "print(\"Function evaluations:\", len(counts))\n",
    "plt.semilogy(counts[0:-1], values[0:-1], '-',label=\"VQE\")\n",
    "plt.legend()\n",
    "plt.xlabel(\"Function evaluations\")\n",
    "plt.ylabel(\"Cost\")\n",
    "plt.title(\"Convergence of VQE solver\")\n",
    "plt.show()"
   ]
  },
  {
   "cell_type": "markdown",
   "id": "2c5cf339-1e24-4a53-a1e1-cf6f77f7c716",
   "metadata": {},
   "source": [
    "### Compare convergence rate"
   ]
  },
  {
   "cell_type": "code",
   "execution_count": 50,
   "id": "7d60a8ed-4097-439a-ad22-ca3a87fcf2b5",
   "metadata": {},
   "outputs": [
    {
     "data": {
      "text/plain": [
       "Text(0, 0.5, 'Cost')"
      ]
     },
     "execution_count": 50,
     "metadata": {},
     "output_type": "execute_result"
    },
    {
     "data": {
      "image/png": "[encoded data removed]",
      "text/plain": [
       "<Figure size 640x480 with 1 Axes>"
      ]
     },
     "metadata": {},
     "output_type": "display_data"
    }
   ],
   "source": [
    "plt.semilogy(cost, label=\"Original\")\n",
    "plt.semilogy(cost_jacobi, label=\"Jacobi\")\n",
    "plt.semilogy(cost_ilu, label=\"ILU\")\n",
    "plt.semilogy(cost_spai, label=\"SPAI\")\n",
    "plt.semilogy(cost_amg, label=\"AMG\")\n",
    "plt.legend()\n",
    "plt.xlabel(\"Iterations\")\n",
    "plt.ylabel(\"Cost\")"
   ]
  },
  {
   "cell_type": "markdown",
   "id": "0b9f57fc",
   "metadata": {
    "heading_collapsed": true
   },
   "source": [
    "## Software info"
   ]
  },
  {
   "cell_type": "code",
   "execution_count": 51,
   "id": "9ad97a4b",
   "metadata": {
    "ExecuteTime": {
     "end_time": "2024-03-21T02:46:26.970385Z",
     "start_time": "2024-03-21T02:46:26.817135Z"
    },
    "hidden": true
   },
   "outputs": [
    {
     "name": "stdout",
     "output_type": "stream",
     "text": [
      "Qiskit: 1.0.2\n",
      "Qiskit IBM Runtime: 0.23.0\n"
     ]
    }
   ],
   "source": [
    "import qiskit\n",
    "import qiskit_ibm_runtime\n",
    "\n",
    "print(f'Qiskit: {qiskit.__version__}')\n",
    "print(f'Qiskit IBM Runtime: {qiskit_ibm_runtime.__version__}')"
   ]
  }
 ],
 "metadata": {
  "kernelspec": {
   "display_name": "Python 3 (ipykernel)",
   "language": "python",
   "name": "python3"
  },
  "language_info": {
   "codemirror_mode": {
    "name": "ipython",
    "version": 3
   },
   "file_extension": ".py",
   "mimetype": "text/x-python",
   "name": "python",
   "nbconvert_exporter": "python",
   "pygments_lexer": "ipython3",
   "version": "3.10.14"
  },
  "toc": {
   "base_numbering": 1,
   "nav_menu": {},
   "number_sections": true,
   "sideBar": true,
   "skip_h1_title": false,
   "title_cell": "Table of Contents",
   "title_sidebar": "Contents",
   "toc_cell": false,
   "toc_position": {
    "height": "calc(100% - 180px)",
    "left": "10px",
    "top": "150px",
    "width": "165px"
   },
   "toc_section_display": true,
   "toc_window_display": false
  },
  "varInspector": {
   "cols": {
    "lenName": 16,
    "lenType": 16,
    "lenVar": 40
   },
   "kernels_config": {
    "python": {
     "delete_cmd_postfix": "",
     "delete_cmd_prefix": "del ",
     "library": "var_list.py",
     "varRefreshCmd": "print(var_dic_list())"
    },
    "r": {
     "delete_cmd_postfix": ") ",
     "delete_cmd_prefix": "rm(",
     "library": "var_list.r",
     "varRefreshCmd": "cat(var_dic_list()) "
    }
   },
   "types_to_exclude": [
    "module",
    "function",
    "builtin_function_or_method",
    "instance",
    "_Feature"
   ],
   "window_display": false
  }
 },
 "nbformat": 4,
 "nbformat_minor": 5
}
