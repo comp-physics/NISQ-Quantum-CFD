{
 "cells": [
  {
   "cell_type": "markdown",
   "id": "14f9ed34",
   "metadata": {},
   "source": [
    "# Lid-driven Cavity Flow using the Projection Method\n",
    "\n",
    "## Introduction \n",
    "\n",
    "Consider the 2D incompressible Navier-Stokes equations (also known as momentum equations)\n",
    "\n",
    "\\begin{align}\n",
    "& \\frac{\\partial u}{\\partial t}+u \\cdot \\frac{\\partial u}{\\partial x}+v \\cdot \\frac{\\partial u}{\\partial y}=-\\frac{1}{\\rho} \\frac{\\partial p}{\\partial x}+\\nu \\frac{\\partial^2 u}{\\partial x^2}+\\nu \\frac{\\partial^2 u}{\\partial y^2}, \\\\\n",
    "& \\frac{\\partial v}{\\partial t}+u \\cdot \\frac{\\partial v}{\\partial x}+v \\cdot \\frac{\\partial v}{\\partial y}=-\\frac{1}{\\rho} \\frac{\\partial p}{\\partial y}+\\nu \\frac{\\partial^2 v}{\\partial x^2}+\\nu \\frac{\\partial^2 v}{\\partial y^2},\n",
    "\\end{align}\n",
    "\n",
    "and the continuity equation\n",
    "\n",
    "\\begin{equation}\n",
    "\\frac{\\partial u}{\\partial x}+\\frac{\\partial v}{\\partial y}=0,\n",
    "\\end{equation}\n",
    "\n",
    "where $\\mathbf{u} = (u,v)$ are flow velocities  in $x,y$ direction, $\\rho$ is the density (constant for incompressible flow), $\\nu$ is the kinematic viscosity, and $p$ stands for pressure.\n",
    "One can write them into a more compact form (dimension free) as \n",
    "\n",
    "\\begin{align}\n",
    "\\frac{\\partial \\mathbf{u}}{\\partial t}+(\\mathbf{u} \\cdot \\nabla) \\mathbf{u}&= -\\frac{1}{\\rho} \\nabla p+\\nu \\nabla^2 \\mathbf{u}, \\\\\n",
    "\\nabla \\cdot \\mathbf{u} & =0.\n",
    "\\end{align}\n",
    "\n",
    "---\n",
    "\n",
    "### Staggered Grid\n",
    "\n",
    "To deal with the checkerboard pressure problem, we assign different mesh systems to each primitive  variables $u,v,p$ as following.\n",
    "\n",
    "\n",
    "<p align=\"center\">\n",
    "  <a href=\"https://www.cfd-online.com/Wiki/Staggered_grid\">\n",
    "    <img width=50% src=\"./Gallery/staggered_grid.png\">\n",
    "  </a>\n",
    "</p>\n",
    "\n",
    "The pressure is stored at the cell center and the velocities are stored at the cell faces.\n",
    "\n",
    "---\n",
    "\n",
    "### Chorin's Projection Method\n",
    "\n",
    "The algorithm adopts an operator splitting approach in which one considers the viscous forces (in the first half step) and the pressure forces (in the second half step) separately. A distinguishing feature of Chorin's projection method is that the velocity field is forced to satisfy a discrete continuity constraint at the end of each time step.\n",
    "\n",
    "We first discretize the time domain using an explicit Euler scheme\n",
    "\n",
    "\\begin{equation}\n",
    "\\frac{\\mathbf{u}^{n+1}-\\mathbf{u}^n}{\\Delta t}=-\\frac{1}{\\rho} \\nabla p^{n+1}-\\left(\\mathbf{u}^n \\cdot \\nabla\\right) +\\nu \\nabla^2 \\mathbf{u}^n,\n",
    "\\end{equation}\n",
    "\n",
    "where the time-step $\\Delta t$ should be chosen so that $u \\Delta t / \\Delta x<1$ to satisfy the Courant-Friedrichs-Lewy (CFL) condition.\n",
    "\n",
    "**Step I: Predictor step** \\\n",
    "Computes an intermediate velocity ${\\mathbf  {u}}^{*}$, explicitly using the momentum equation by ignoring the pressure gradient term $\\nabla p^{n+1} = 0$:\n",
    "\n",
    "\\begin{align}\n",
    "\\frac{\\mathbf{u}^*-\\mathbf{u}^n}{\\Delta t} = -\\left(\\mathbf{u}^n \\cdot \\nabla\\right) \\mathbf{u}^n+\\nu \\nabla^2 \\mathbf{u}^n, \n",
    "\\end{align}\n",
    "\n",
    "where $\\mathbf{u}^n$ is the velocity at $n^{\\text {th }}$ time step. \n",
    "\n",
    "**Step II: Projection step** \\\n",
    "We correct the intermediate velocity to obtain the final solution of the time step $\\mathbf{u}^{n+1}$ \n",
    "\n",
    "\\begin{equation}\n",
    "\\frac{\\mathbf{u}^{n+1}-\\mathbf{u}^*}{\\Delta t}=-\\frac{1}{\\rho} \\nabla p^{n+1}.\n",
    "\\end{equation}\n",
    "\n",
    "**Step III: Pressure Poisson equation** \\\n",
    "Considering the divergence (continuity) condition at the next time step $t=n+1$, we have\n",
    "\n",
    "\\begin{align}\n",
    "\\nabla \\cdot \\mathbf{u}^{n+1} = 0\n",
    "\\quad \\Rightarrow \\quad\n",
    "\\nabla \\cdot \\bigg(\\mathbf{u}^*-\\frac{\\Delta t}{\\rho} \\nabla p^{n+1} \\bigg) = 0.\n",
    "\\end{align}\n",
    "\n",
    "Reorganize it to obtain a Poisson problem\n",
    "\n",
    "\\begin{align}\n",
    "\\boxed{\\nabla^2 p^{n+1}=\\frac{\\rho}{\\Delta t} \\nabla \\cdot \\mathbf{u}^*.}\n",
    "\\end{align}\n",
    "\n",
    "**Step IV: Velocity correction** \\\n",
    "Once we solve the Poisson problem, we can correct the velocity from ${\\mathbf  {u}}^{*}$ to the next time step $\\mathbf{u}^{n+1}$ \n",
    "\\begin{align}\n",
    "\\mathbf{u}^{n+1}=\\mathbf{u}^*-\\frac{\\Delta t}{\\rho} \\nabla p^{n+1}.\n",
    "\\end{align}\n",
    "\n",
    "---"
   ]
  },
  {
   "cell_type": "markdown",
   "id": "f0917cdd",
   "metadata": {},
   "source": [
    "## Algorithm\n",
    "\n",
    "The code below follows this guide https://www.montana.edu/mowkes/research/source-codes/GuideToCFD.pdf\n"
   ]
  },
  {
   "cell_type": "code",
   "execution_count": 70,
   "id": "500da5a6",
   "metadata": {
    "ExecuteTime": {
     "end_time": "2023-10-04T20:47:21.102062Z",
     "start_time": "2023-10-04T20:46:09.951916Z"
    }
   },
   "outputs": [
    {
     "name": "stderr",
     "output_type": "stream",
     "text": [
      "100%|████████████████████████████████████████████████████████████████████████████████████████| 5000/5000 [01:11<00:00, 70.31it/s]\n"
     ]
    }
   ],
   "source": [
    "import numpy as np\n",
    "from tqdm import tqdm\n",
    "import matplotlib.pyplot as plt\n",
    "\n",
    "Lx = 1              # length of domian in x-direction\n",
    "Ly = 1              # length of domian in y-direction\n",
    "nx = 30             # grid size in x-direction\n",
    "ny = 30             # grid size in y-direction\n",
    "\n",
    "Re = 100            # Reynolds number\n",
    "nu = 1/Re           # kinematic viscosity\n",
    "rho = 1.0           # density\n",
    "dt = 0.001          # time step size\n",
    "itr = 5000          # iterations\n",
    "\n",
    "# Create staggered grid index system\n",
    "imin, jmin = 1, 1\n",
    "imax = imin + nx - 1\n",
    "jmax = jmin + ny - 1\n",
    "\n",
    "# Define ghost cells for boundary conditions\n",
    "x = np.zeros(jmax + 2)\n",
    "y = np.zeros(jmax + 2)\n",
    "x[imin: imax + 2] = np.linspace(0, Lx, nx + 1, endpoint=True)\n",
    "y[jmin: jmax + 2] = np.linspace(0, Ly, ny + 1, endpoint=True)\n",
    "\n",
    "dx = x[imin + 1] - x[imin]\n",
    "dy = y[jmin + 1] - y[jmin]\n",
    "dxi = 1 / dx\n",
    "dyi = 1 / dy\n",
    "\n",
    "# Variable declaration\n",
    "u = np.zeros((imax + 2, jmax + 2))\n",
    "v = np.zeros((imax + 2, jmax + 2))\n",
    "\n",
    "\n",
    "for _ in tqdm(range(itr)):\n",
    "    \n",
    "    # u-momentum\n",
    "    us = u.copy()\n",
    "    I = slice(imin + 1, imax + 1)\n",
    "    Ib = slice(imin, imax)\n",
    "    If = slice(imin + 2, imax + 2)\n",
    "\n",
    "\n",
    "    J = slice(jmin, jmax + 1)\n",
    "    Jb = slice(jmin - 1, jmax)\n",
    "    Jf = slice(jmin + 1, jmax + 2)\n",
    "\n",
    "\n",
    "    v_here = 0.25 * (v[Ib, J] + v[Ib, Jf] + v[I, J] + v[I, Jf])\n",
    "    us[I, J] = u[I, J] + dt * (\n",
    "            nu * (u[Ib, J] - 2 * u[I, J] + u[If, J]) * dxi ** 2\n",
    "            + nu * (u[I, Jb] - 2 * u[I, J] + u[I, Jf]) * dyi ** 2\n",
    "            - v_here * (u[I, Jf] - u[I, Jb]) * 0.5 * dyi\n",
    "            - u[I, J] * (u[If, J] - u[Ib, J]) * 0.5 * dxi\n",
    "    )\n",
    "\n",
    "\n",
    "    # v-momentum\n",
    "    vs = v.copy()\n",
    "    I = slice(imin, imax + 1)\n",
    "    Ib = slice(imin - 1, imax)\n",
    "    If = slice(imin + 1, imax + 2)\n",
    "\n",
    "\n",
    "    J = slice(jmin + 1, jmax + 1)\n",
    "    Jb = slice(jmin, jmax)\n",
    "    Jf = slice(jmin + 2, jmax + 2)\n",
    "\n",
    "\n",
    "    u_here = 0.25 * (u[I, Jb] + u[I, J] + u[If, Jb] + u[If, J])\n",
    "    vs[I, J] = v[I, J] + dt * (\n",
    "            nu * (v[Ib, J] - 2 * v[I, J] + v[If, J]) * dxi ** 2\n",
    "            + nu * (v[I, Jb] - 2 * v[I, J] + v[I, Jf]) * dyi ** 2\n",
    "            - u_here * (v[If, J] - v[Ib, J]) * 0.5 * dxi\n",
    "            - v[I, J] * (v[I, Jf] - v[I, Jb]) * 0.5 * dyi\n",
    "    )\n",
    "\n",
    "    # Claculate R.H.S of pressure Poisson\n",
    "    Rn = -rho / dt * ((us[imin + 1: imax + 2, jmin: jmax + 1]\n",
    "                       - us[imin: imax + 1, jmin: jmax + 1]) * dxi\n",
    "                      + (vs[imin: imax + 1, jmin + 1: jmax + 2]\n",
    "                       - vs[imin: imax + 1, jmin: jmax + 1]) * dyi)\n",
    "    \n",
    "    R = Rn.T.ravel()\n",
    "    pv = np.linalg.solve(L, R)\n",
    "    pn = pv.reshape(ny, nx).T\n",
    "    p = np.zeros((imax + 1, jmax + 1))\n",
    "    p[1:, 1:] = pn\n",
    "\n",
    "\n",
    "    # Correct velocity\n",
    "    u[imin + 1: imax + 1, jmin: jmax + 1] = us[imin + 1: imax + 1, jmin: jmax + 1] - dt / rho * (\n",
    "                p[imin + 1: imax + 1, jmin: jmax + 1] - p[imin: imax, jmin: jmax + 1]) * dxi\n",
    "    v[imin: imax + 1, jmin + 1: jmax + 1] = vs[imin: imax + 1, jmin + 1: jmax + 1] - dt / rho * (\n",
    "                p[imin: imax + 1, jmin + 1: jmax + 1] - p[imin: imax + 1, jmin: jmax]) * dyi\n",
    "    \n",
    "    boundary_condition(u, v)"
   ]
  },
  {
   "cell_type": "markdown",
   "id": "a87639b2",
   "metadata": {},
   "source": [
    "The Laplacian only depends on the computational mesh and can be computed once at the beginning of the simulation and stored."
   ]
  },
  {
   "cell_type": "code",
   "execution_count": 39,
   "id": "64a46980",
   "metadata": {
    "ExecuteTime": {
     "end_time": "2023-10-04T20:16:31.114030Z",
     "start_time": "2023-10-04T20:16:31.081104Z"
    }
   },
   "outputs": [],
   "source": [
    "def Laplacian(nx, ny, dxi, dyi):\n",
    "    Dx = np.diag(np.ones(nx)) * 2 - np.diag(np.ones(nx - 1), 1) - np.diag(np.ones(nx - 1), -1)\n",
    "    Dx[0, 0] = 1\n",
    "    Dx[-1, -1] = 1\n",
    "    Ix = np.diag(np.ones(ny))\n",
    "    Dy = np.diag(np.ones(ny)) * 2 - np.diag(np.ones(ny - 1), 1) - np.diag(np.ones(ny - 1), -1)\n",
    "    Dy[0, 0] = 1\n",
    "    Dy[-1, -1] = 1\n",
    "    Iy = np.diag(np.ones(nx))\n",
    "    L = np.kron(Ix, Dx) * dxi ** 2 + np.kron(Dy, Iy) * dyi ** 2\n",
    "    return L\n",
    "\n",
    "L = Laplacian(nx, ny, dxi, dyi)"
   ]
  },
  {
   "cell_type": "code",
   "execution_count": 40,
   "id": "487b9a51",
   "metadata": {
    "ExecuteTime": {
     "end_time": "2023-10-04T20:16:31.584117Z",
     "start_time": "2023-10-04T20:16:31.574373Z"
    }
   },
   "outputs": [
    {
     "data": {
      "text/plain": [
       "array([[1800., -900.,    0., ...,    0.,    0.,    0.],\n",
       "       [-900., 2700., -900., ...,    0.,    0.,    0.],\n",
       "       [   0., -900., 2700., ...,    0.,    0.,    0.],\n",
       "       ...,\n",
       "       [   0.,    0.,    0., ..., 2700., -900.,    0.],\n",
       "       [   0.,    0.,    0., ..., -900., 2700., -900.],\n",
       "       [   0.,    0.,    0., ...,    0., -900., 1800.]])"
      ]
     },
     "execution_count": 40,
     "metadata": {},
     "output_type": "execute_result"
    }
   ],
   "source": [
    "L"
   ]
  },
  {
   "cell_type": "code",
   "execution_count": 54,
   "id": "fc0a966d",
   "metadata": {
    "ExecuteTime": {
     "end_time": "2023-10-04T20:28:45.832308Z",
     "start_time": "2023-10-04T20:28:45.813755Z"
    }
   },
   "outputs": [],
   "source": [
    "def boundary_condition(u, v):\n",
    "    u[imin, jmin - 1:jmax + 1] = 0\n",
    "    u[imax + 1, jmin - 1:jmax + 1] = 0\n",
    "    u[imin: imax + 2, jmin - 1] = -u[imin: imax + 2, jmin]\n",
    "    u[imin: imax + 2, jmax + 1] = 2 - u[imin: imax + 2, jmax]\n",
    "\n",
    "\n",
    "    v[imin - 1: imax + 2, jmin] = 0.\n",
    "    v[imin - 1: imax + 2, jmax + 1] = 0.\n",
    "    v[imin - 1, jmin:jmax + 1] = -v[imin, jmin:jmax + 1]\n",
    "    v[imax + 1, jmin:jmax + 1] = -v[imax, jmin:jmax + 1]"
   ]
  },
  {
   "cell_type": "markdown",
   "id": "06e0766f",
   "metadata": {},
   "source": [
    "## Benchmark"
   ]
  },
  {
   "cell_type": "code",
   "execution_count": 71,
   "id": "5a229815",
   "metadata": {
    "ExecuteTime": {
     "end_time": "2023-10-04T20:51:00.157613Z",
     "start_time": "2023-10-04T20:50:59.960566Z"
    }
   },
   "outputs": [
    {
     "data": {
      "image/png": "[encoded data removed]",
      "text/plain": [
       "<Figure size 640x480 with 2 Axes>"
      ]
     },
     "metadata": {},
     "output_type": "display_data"
    }
   ],
   "source": [
    "X, Y = np.meshgrid(x, y)\n",
    "plt.figure()\n",
    "plt.contourf(X, Y, u.T, 80, cmap='jet')\n",
    "plt.colorbar()\n",
    "# plt.axis([0, 1, 0, 1])\n",
    "plt.title(\"Steady U\")\n",
    "plt.show()"
   ]
  },
  {
   "cell_type": "code",
   "execution_count": 51,
   "id": "1fb8cbd0",
   "metadata": {
    "ExecuteTime": {
     "end_time": "2023-10-04T20:28:20.197368Z",
     "start_time": "2023-10-04T20:28:20.183284Z"
    }
   },
   "outputs": [],
   "source": [
    "GhiaU = np.loadtxt('./benchmark/GhiaU.txt', skiprows=1)\n",
    "GhiaV = np.loadtxt('./benchmark/GhiaV.txt', skiprows=1)\n",
    "y_Ghia = GhiaU[:, 0]\n",
    "x_Ghia = GhiaV[:, 0]"
   ]
  },
  {
   "cell_type": "code",
   "execution_count": 52,
   "id": "a581a4ab",
   "metadata": {
    "ExecuteTime": {
     "end_time": "2023-10-04T20:28:20.968693Z",
     "start_time": "2023-10-04T20:28:20.954546Z"
    }
   },
   "outputs": [
    {
     "name": "stdout",
     "output_type": "stream",
     "text": [
      "   # Ghia, U. K. N. G., Ghia, K. N., & Shin, C. T. (1982). \n",
      "0   # High-Re solutions for incompressible flow us...      \n",
      "1   # Journal of computational physics, 48(3), 387...      \n",
      "2                                                   #      \n",
      "3                                           # TABLE I      \n",
      "4   # Results for $u$-velocity along Vertical Line...      \n",
      "5   #---------------------------------------------...      \n",
      "6              #                                   Re      \n",
      "7   #       --------------------------------------...      \n",
      "8   #  y      100      400      1000     3200     ...      \n",
      "9   #---------------------------------------------...      \n",
      "10  1.0000  1.00000  1.00000  1.00000  1.00000  1....      \n",
      "11  0.9766  0.84123  0.75837  0.65928  0.53236  0....      \n",
      "12  0.9688  0.78871  0.68439  0.57492  0.48296  0....      \n",
      "13  0.9609  0.73722  0.61756  0.51117  0.46547  0....      \n",
      "14  0.9531  0.68717  0.55892  0.46604  0.46101  0....      \n",
      "15  0.8516  0.23151  0.29093  0.33304  0.34682  0....      \n",
      "16  0.7344  0.00332  0.16256  0.18719  0.19791  0....      \n",
      "17  0.6172 -0.13641  0.02135  0.05702  0.07156  0....      \n",
      "18  0.5000 -0.20581 -0.11477 -0.06080 -0.04272 -0....      \n",
      "19  0.4531 -0.21090 -0.17119 -0.10648 -0.86636 -0....      \n",
      "20  0.2813 -0.15662 -0.32726 -0.27805 -0.24427 -0....      \n",
      "21  0.1719 -0.10150 -0.24299 -0.38289 -0.34323 -0....      \n",
      "22  0.1016 -0.06434 -0.14612 -0.29730 -0.41933 -0....      \n",
      "23  0.0703 -0.04775 -0.10338 -0.22220 -0.37827 -0....      \n",
      "24  0.0625 -0.04192 -0.09266 -0.20196 -0.35344 -0....      \n",
      "25  0.0547 -0.03717 -0.08186 -0.18109 -0.32407 -0....      \n",
      "26  0.0000  0.00000  0.00000  0.00000  0.00000  0....      \n"
     ]
    }
   ],
   "source": [
    "# Understand what's inside the benchmark data\n",
    "import pandas as pd\n",
    "# pd.set_option('display.max_columns', None)\n",
    "df = pd.read_table(\"./benchmark/GhiaU.txt\", skiprows=0, delimiter='\\r')\n",
    "print(df)"
   ]
  },
  {
   "cell_type": "code",
   "execution_count": 72,
   "id": "c9a19dd6",
   "metadata": {
    "ExecuteTime": {
     "end_time": "2023-10-04T20:51:06.587091Z",
     "start_time": "2023-10-04T20:51:06.449141Z"
    }
   },
   "outputs": [
    {
     "data": {
      "text/plain": [
       "<matplotlib.legend.Legend at 0x7fe8abda9610>"
      ]
     },
     "execution_count": 72,
     "metadata": {},
     "output_type": "execute_result"
    },
    {
     "data": {
      "image/png": "[encoded data removed]",
      "text/plain": [
       "<Figure size 640x480 with 1 Axes>"
      ]
     },
     "metadata": {},
     "output_type": "display_data"
    }
   ],
   "source": [
    "plt.plot(y, u[20,:], label=\"Projection\")\n",
    "plt.plot(y_Ghia, GhiaU[:, 1], 'ro', label = \"Ghia et al. (1982)\")\n",
    "plt.grid()\n",
    "plt.xlabel(\"y\")\n",
    "plt.ylabel(\"U Velocity\")\n",
    "plt.legend()\n"
   ]
  },
  {
   "cell_type": "code",
   "execution_count": null,
   "id": "db36f945",
   "metadata": {},
   "outputs": [],
   "source": []
  }
 ],
 "metadata": {
  "kernelspec": {
   "display_name": "Python 3 (ipykernel)",
   "language": "python",
   "name": "python3"
  },
  "language_info": {
   "codemirror_mode": {
    "name": "ipython",
    "version": 3
   },
   "file_extension": ".py",
   "mimetype": "text/x-python",
   "name": "python",
   "nbconvert_exporter": "python",
   "pygments_lexer": "ipython3",
   "version": "3.8.17"
  },
  "toc": {
   "base_numbering": 1,
   "nav_menu": {},
   "number_sections": true,
   "sideBar": true,
   "skip_h1_title": false,
   "title_cell": "Table of Contents",
   "title_sidebar": "Contents",
   "toc_cell": false,
   "toc_position": {},
   "toc_section_display": true,
   "toc_window_display": false
  },
  "varInspector": {
   "cols": {
    "lenName": 16,
    "lenType": 16,
    "lenVar": 40
   },
   "kernels_config": {
    "python": {
     "delete_cmd_postfix": "",
     "delete_cmd_prefix": "del ",
     "library": "var_list.py",
     "varRefreshCmd": "print(var_dic_list())"
    },
    "r": {
     "delete_cmd_postfix": ") ",
     "delete_cmd_prefix": "rm(",
     "library": "var_list.r",
     "varRefreshCmd": "cat(var_dic_list()) "
    }
   },
   "types_to_exclude": [
    "module",
    "function",
    "builtin_function_or_method",
    "instance",
    "_Feature"
   ],
   "window_display": false
  }
 },
 "nbformat": 4,
 "nbformat_minor": 5
}
